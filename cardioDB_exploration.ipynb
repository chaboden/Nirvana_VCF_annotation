{
 "cells": [
  {
   "cell_type": "markdown",
   "id": "fc4bb10b",
   "metadata": {},
   "source": [
    "### Import"
   ]
  },
  {
   "cell_type": "code",
   "execution_count": 1,
   "id": "8fdabd18",
   "metadata": {},
   "outputs": [],
   "source": [
    "import pandas as pd\n",
    "import re"
   ]
  },
  {
   "cell_type": "code",
   "execution_count": 2,
   "id": "5f3adaa8",
   "metadata": {},
   "outputs": [
    {
     "data": {
      "text/html": [
       "<div>\n",
       "<style scoped>\n",
       "    .dataframe tbody tr th:only-of-type {\n",
       "        vertical-align: middle;\n",
       "    }\n",
       "\n",
       "    .dataframe tbody tr th {\n",
       "        vertical-align: top;\n",
       "    }\n",
       "\n",
       "    .dataframe thead th {\n",
       "        text-align: right;\n",
       "    }\n",
       "</style>\n",
       "<table border=\"1\" class=\"dataframe\">\n",
       "  <thead>\n",
       "    <tr style=\"text-align: right;\">\n",
       "      <th></th>\n",
       "      <th>Unnamed: 0</th>\n",
       "      <th>Gene</th>\n",
       "      <th>Nucleotide.Change</th>\n",
       "      <th>Protein.Change</th>\n",
       "      <th>Consequence</th>\n",
       "      <th>OMGL.class</th>\n",
       "      <th>LMM.class</th>\n",
       "      <th>Phenotype</th>\n",
       "      <th>Type</th>\n",
       "      <th>Location.GRCh37.</th>\n",
       "      <th>correct_ref</th>\n",
       "    </tr>\n",
       "  </thead>\n",
       "  <tbody>\n",
       "    <tr>\n",
       "      <th>0</th>\n",
       "      <td>0</td>\n",
       "      <td>MYH7</td>\n",
       "      <td>c.4048G&gt;A</td>\n",
       "      <td>p.E1350K</td>\n",
       "      <td>missense</td>\n",
       "      <td>VUS</td>\n",
       "      <td>NaN</td>\n",
       "      <td>Dilated Cardiomyopathy</td>\n",
       "      <td>substitution</td>\n",
       "      <td>chr14:23887540</td>\n",
       "      <td>C</td>\n",
       "    </tr>\n",
       "    <tr>\n",
       "      <th>1</th>\n",
       "      <td>1</td>\n",
       "      <td>MYH7</td>\n",
       "      <td>c.2555T&gt;C</td>\n",
       "      <td>p.M852T</td>\n",
       "      <td>missense</td>\n",
       "      <td>Likely Pathogenic</td>\n",
       "      <td>VUS favour pathogenic</td>\n",
       "      <td>Hypertrophic Cardiomyopathy</td>\n",
       "      <td>substitution</td>\n",
       "      <td>chr14:23894102</td>\n",
       "      <td>A</td>\n",
       "    </tr>\n",
       "    <tr>\n",
       "      <th>2</th>\n",
       "      <td>3</td>\n",
       "      <td>MYH7</td>\n",
       "      <td>c.2401T&gt;A</td>\n",
       "      <td>p.Y801N</td>\n",
       "      <td>missense</td>\n",
       "      <td>NaN</td>\n",
       "      <td>VUS</td>\n",
       "      <td>Hypertrophic Cardiomyopathy</td>\n",
       "      <td>substitution</td>\n",
       "      <td>chr14:23894513</td>\n",
       "      <td>A</td>\n",
       "    </tr>\n",
       "    <tr>\n",
       "      <th>3</th>\n",
       "      <td>4</td>\n",
       "      <td>MYBPC3</td>\n",
       "      <td>c.2905+1G&gt;A</td>\n",
       "      <td>NaN</td>\n",
       "      <td>essential splice site</td>\n",
       "      <td>Pathogenic</td>\n",
       "      <td>Pathogenic</td>\n",
       "      <td>Hypertrophic Cardiomyopathy</td>\n",
       "      <td>substitution</td>\n",
       "      <td>chr11:47356592</td>\n",
       "      <td>C</td>\n",
       "    </tr>\n",
       "    <tr>\n",
       "      <th>4</th>\n",
       "      <td>5</td>\n",
       "      <td>PLN</td>\n",
       "      <td>c.152T&gt;C</td>\n",
       "      <td>p.L51P</td>\n",
       "      <td>missense</td>\n",
       "      <td>NaN</td>\n",
       "      <td>VUS favour pathogenic</td>\n",
       "      <td>Hypertrophic Cardiomyopathy</td>\n",
       "      <td>substitution</td>\n",
       "      <td>chr6:118880236</td>\n",
       "      <td>T</td>\n",
       "    </tr>\n",
       "  </tbody>\n",
       "</table>\n",
       "</div>"
      ],
      "text/plain": [
       "   Unnamed: 0    Gene Nucleotide.Change Protein.Change            Consequence  \\\n",
       "0           0    MYH7         c.4048G>A       p.E1350K               missense   \n",
       "1           1    MYH7         c.2555T>C        p.M852T               missense   \n",
       "2           3    MYH7         c.2401T>A        p.Y801N               missense   \n",
       "3           4  MYBPC3       c.2905+1G>A            NaN  essential splice site   \n",
       "4           5     PLN          c.152T>C         p.L51P               missense   \n",
       "\n",
       "          OMGL.class              LMM.class                    Phenotype  \\\n",
       "0                VUS                    NaN       Dilated Cardiomyopathy   \n",
       "1  Likely Pathogenic  VUS favour pathogenic  Hypertrophic Cardiomyopathy   \n",
       "2                NaN                    VUS  Hypertrophic Cardiomyopathy   \n",
       "3         Pathogenic             Pathogenic  Hypertrophic Cardiomyopathy   \n",
       "4                NaN  VUS favour pathogenic  Hypertrophic Cardiomyopathy   \n",
       "\n",
       "           Type Location.GRCh37. correct_ref  \n",
       "0  substitution   chr14:23887540           C  \n",
       "1  substitution   chr14:23894102           A  \n",
       "2  substitution   chr14:23894513           A  \n",
       "3  substitution   chr11:47356592           C  \n",
       "4  substitution   chr6:118880236           T  "
      ]
     },
     "execution_count": 2,
     "metadata": {},
     "output_type": "execute_result"
    }
   ],
   "source": [
    "cardioDB = pd.read_csv(\"cardioDBwithREF.csv\", delimiter = \",\")\n",
    "cardioDB.head()"
   ]
  },
  {
   "cell_type": "markdown",
   "id": "b87da6f0",
   "metadata": {},
   "source": [
    "### Dropping columns that are not needed"
   ]
  },
  {
   "cell_type": "code",
   "execution_count": 3,
   "id": "eb12e1cf",
   "metadata": {},
   "outputs": [
    {
     "data": {
      "text/plain": [
       "Index(['Unnamed: 0', 'Gene', 'Nucleotide.Change', 'Protein.Change',\n",
       "       'Consequence', 'OMGL.class', 'LMM.class', 'Phenotype', 'Type',\n",
       "       'Location.GRCh37.', 'correct_ref'],\n",
       "      dtype='object')"
      ]
     },
     "execution_count": 3,
     "metadata": {},
     "output_type": "execute_result"
    }
   ],
   "source": [
    "cardioDB.columns"
   ]
  },
  {
   "cell_type": "code",
   "execution_count": 4,
   "id": "86724592",
   "metadata": {},
   "outputs": [],
   "source": [
    "cardioDB = cardioDB.drop(columns=['Unnamed: 0','Gene', 'Protein.Change', 'Consequence','Type'])"
   ]
  },
  {
   "cell_type": "code",
   "execution_count": 5,
   "id": "e61888d6",
   "metadata": {},
   "outputs": [
    {
     "data": {
      "text/html": [
       "<div>\n",
       "<style scoped>\n",
       "    .dataframe tbody tr th:only-of-type {\n",
       "        vertical-align: middle;\n",
       "    }\n",
       "\n",
       "    .dataframe tbody tr th {\n",
       "        vertical-align: top;\n",
       "    }\n",
       "\n",
       "    .dataframe thead th {\n",
       "        text-align: right;\n",
       "    }\n",
       "</style>\n",
       "<table border=\"1\" class=\"dataframe\">\n",
       "  <thead>\n",
       "    <tr style=\"text-align: right;\">\n",
       "      <th></th>\n",
       "      <th>Nucleotide.Change</th>\n",
       "      <th>OMGL.class</th>\n",
       "      <th>LMM.class</th>\n",
       "      <th>Phenotype</th>\n",
       "      <th>Location.GRCh37.</th>\n",
       "      <th>correct_ref</th>\n",
       "    </tr>\n",
       "  </thead>\n",
       "  <tbody>\n",
       "    <tr>\n",
       "      <th>0</th>\n",
       "      <td>c.4048G&gt;A</td>\n",
       "      <td>VUS</td>\n",
       "      <td>NaN</td>\n",
       "      <td>Dilated Cardiomyopathy</td>\n",
       "      <td>chr14:23887540</td>\n",
       "      <td>C</td>\n",
       "    </tr>\n",
       "    <tr>\n",
       "      <th>1</th>\n",
       "      <td>c.2555T&gt;C</td>\n",
       "      <td>Likely Pathogenic</td>\n",
       "      <td>VUS favour pathogenic</td>\n",
       "      <td>Hypertrophic Cardiomyopathy</td>\n",
       "      <td>chr14:23894102</td>\n",
       "      <td>A</td>\n",
       "    </tr>\n",
       "    <tr>\n",
       "      <th>2</th>\n",
       "      <td>c.2401T&gt;A</td>\n",
       "      <td>NaN</td>\n",
       "      <td>VUS</td>\n",
       "      <td>Hypertrophic Cardiomyopathy</td>\n",
       "      <td>chr14:23894513</td>\n",
       "      <td>A</td>\n",
       "    </tr>\n",
       "    <tr>\n",
       "      <th>3</th>\n",
       "      <td>c.2905+1G&gt;A</td>\n",
       "      <td>Pathogenic</td>\n",
       "      <td>Pathogenic</td>\n",
       "      <td>Hypertrophic Cardiomyopathy</td>\n",
       "      <td>chr11:47356592</td>\n",
       "      <td>C</td>\n",
       "    </tr>\n",
       "    <tr>\n",
       "      <th>4</th>\n",
       "      <td>c.152T&gt;C</td>\n",
       "      <td>NaN</td>\n",
       "      <td>VUS favour pathogenic</td>\n",
       "      <td>Hypertrophic Cardiomyopathy</td>\n",
       "      <td>chr6:118880236</td>\n",
       "      <td>T</td>\n",
       "    </tr>\n",
       "  </tbody>\n",
       "</table>\n",
       "</div>"
      ],
      "text/plain": [
       "  Nucleotide.Change         OMGL.class              LMM.class  \\\n",
       "0         c.4048G>A                VUS                    NaN   \n",
       "1         c.2555T>C  Likely Pathogenic  VUS favour pathogenic   \n",
       "2         c.2401T>A                NaN                    VUS   \n",
       "3       c.2905+1G>A         Pathogenic             Pathogenic   \n",
       "4          c.152T>C                NaN  VUS favour pathogenic   \n",
       "\n",
       "                     Phenotype Location.GRCh37. correct_ref  \n",
       "0       Dilated Cardiomyopathy   chr14:23887540           C  \n",
       "1  Hypertrophic Cardiomyopathy   chr14:23894102           A  \n",
       "2  Hypertrophic Cardiomyopathy   chr14:23894513           A  \n",
       "3  Hypertrophic Cardiomyopathy   chr11:47356592           C  \n",
       "4  Hypertrophic Cardiomyopathy   chr6:118880236           T  "
      ]
     },
     "execution_count": 5,
     "metadata": {},
     "output_type": "execute_result"
    }
   ],
   "source": [
    "cardioDB.head()"
   ]
  },
  {
   "cell_type": "markdown",
   "id": "8d4d6946",
   "metadata": {},
   "source": [
    "### Basic info"
   ]
  },
  {
   "cell_type": "code",
   "execution_count": 6,
   "id": "6a2c1810",
   "metadata": {},
   "outputs": [
    {
     "name": "stdout",
     "output_type": "stream",
     "text": [
      "<class 'pandas.core.frame.DataFrame'>\n",
      "RangeIndex: 1216 entries, 0 to 1215\n",
      "Data columns (total 6 columns):\n",
      " #   Column             Non-Null Count  Dtype \n",
      "---  ------             --------------  ----- \n",
      " 0   Nucleotide.Change  1216 non-null   object\n",
      " 1   OMGL.class         679 non-null    object\n",
      " 2   LMM.class          712 non-null    object\n",
      " 3   Phenotype          1216 non-null   object\n",
      " 4   Location.GRCh37.   1216 non-null   object\n",
      " 5   correct_ref        1214 non-null   object\n",
      "dtypes: object(6)\n",
      "memory usage: 57.1+ KB\n"
     ]
    }
   ],
   "source": [
    "cardioDB.info()"
   ]
  },
  {
   "cell_type": "markdown",
   "id": "9fe8c2ec",
   "metadata": {},
   "source": [
    "### Checking missing values"
   ]
  },
  {
   "cell_type": "code",
   "execution_count": 7,
   "id": "2fcbcee3",
   "metadata": {
    "scrolled": true
   },
   "outputs": [
    {
     "data": {
      "text/plain": [
       "Nucleotide.Change      0\n",
       "OMGL.class           537\n",
       "LMM.class            504\n",
       "Phenotype              0\n",
       "Location.GRCh37.       0\n",
       "correct_ref            2\n",
       "dtype: int64"
      ]
     },
     "execution_count": 7,
     "metadata": {},
     "output_type": "execute_result"
    }
   ],
   "source": [
    "cardioDB.isna().sum()"
   ]
  },
  {
   "cell_type": "code",
   "execution_count": 8,
   "id": "b901b205",
   "metadata": {},
   "outputs": [
    {
     "data": {
      "text/html": [
       "<div>\n",
       "<style scoped>\n",
       "    .dataframe tbody tr th:only-of-type {\n",
       "        vertical-align: middle;\n",
       "    }\n",
       "\n",
       "    .dataframe tbody tr th {\n",
       "        vertical-align: top;\n",
       "    }\n",
       "\n",
       "    .dataframe thead th {\n",
       "        text-align: right;\n",
       "    }\n",
       "</style>\n",
       "<table border=\"1\" class=\"dataframe\">\n",
       "  <thead>\n",
       "    <tr style=\"text-align: right;\">\n",
       "      <th></th>\n",
       "      <th>Nucleotide.Change</th>\n",
       "      <th>OMGL.class</th>\n",
       "      <th>LMM.class</th>\n",
       "      <th>Phenotype</th>\n",
       "      <th>Location.GRCh37.</th>\n",
       "      <th>correct_ref</th>\n",
       "    </tr>\n",
       "  </thead>\n",
       "  <tbody>\n",
       "    <tr>\n",
       "      <th>0</th>\n",
       "      <td>c.4048G&gt;A</td>\n",
       "      <td>VUS</td>\n",
       "      <td>NaN</td>\n",
       "      <td>Dilated Cardiomyopathy</td>\n",
       "      <td>chr14:23887540</td>\n",
       "      <td>C</td>\n",
       "    </tr>\n",
       "    <tr>\n",
       "      <th>5</th>\n",
       "      <td>c.573G&gt;A</td>\n",
       "      <td>VUS</td>\n",
       "      <td>NaN</td>\n",
       "      <td>Hypertrophic Cardiomyopathy</td>\n",
       "      <td>chr19:55663262</td>\n",
       "      <td>C</td>\n",
       "    </tr>\n",
       "    <tr>\n",
       "      <th>7</th>\n",
       "      <td>c.136C&gt;T</td>\n",
       "      <td>Likely Pathogenic</td>\n",
       "      <td>NaN</td>\n",
       "      <td>Arrhythmogenic Right Ventricular Cardiomyopathy</td>\n",
       "      <td>chr18:29099820</td>\n",
       "      <td>C</td>\n",
       "    </tr>\n",
       "    <tr>\n",
       "      <th>8</th>\n",
       "      <td>c.4132G&gt;C</td>\n",
       "      <td>VUS</td>\n",
       "      <td>NaN</td>\n",
       "      <td>Hypertrophic Cardiomyopathy</td>\n",
       "      <td>chr14:23887456</td>\n",
       "      <td>C</td>\n",
       "    </tr>\n",
       "    <tr>\n",
       "      <th>9</th>\n",
       "      <td>c.929-2A&gt;G</td>\n",
       "      <td>Pathogenic</td>\n",
       "      <td>NaN</td>\n",
       "      <td>Hypertrophic Cardiomyopathy</td>\n",
       "      <td>chrX:119575751</td>\n",
       "      <td>T</td>\n",
       "    </tr>\n",
       "  </tbody>\n",
       "</table>\n",
       "</div>"
      ],
      "text/plain": [
       "  Nucleotide.Change         OMGL.class LMM.class  \\\n",
       "0         c.4048G>A                VUS       NaN   \n",
       "5          c.573G>A                VUS       NaN   \n",
       "7          c.136C>T  Likely Pathogenic       NaN   \n",
       "8         c.4132G>C                VUS       NaN   \n",
       "9        c.929-2A>G         Pathogenic       NaN   \n",
       "\n",
       "                                         Phenotype Location.GRCh37.  \\\n",
       "0                           Dilated Cardiomyopathy   chr14:23887540   \n",
       "5                      Hypertrophic Cardiomyopathy   chr19:55663262   \n",
       "7  Arrhythmogenic Right Ventricular Cardiomyopathy   chr18:29099820   \n",
       "8                      Hypertrophic Cardiomyopathy   chr14:23887456   \n",
       "9                      Hypertrophic Cardiomyopathy   chrX:119575751   \n",
       "\n",
       "  correct_ref  \n",
       "0           C  \n",
       "5           C  \n",
       "7           C  \n",
       "8           C  \n",
       "9           T  "
      ]
     },
     "execution_count": 8,
     "metadata": {},
     "output_type": "execute_result"
    }
   ],
   "source": [
    "#cardioDB[cardioDB[\"OMGL.class\"].isna()].head()\n",
    "cardioDB[cardioDB[\"LMM.class\"].isna()].head()"
   ]
  },
  {
   "cell_type": "markdown",
   "id": "9f4374dc",
   "metadata": {},
   "source": [
    "### Exploring column data"
   ]
  },
  {
   "cell_type": "code",
   "execution_count": 9,
   "id": "f6de5b92",
   "metadata": {
    "scrolled": true
   },
   "outputs": [
    {
     "data": {
      "text/plain": [
       "c.3133C>T      3\n",
       "c.532G>A       3\n",
       "c.4048G>A      2\n",
       "c.613C>T       2\n",
       "c.1123G>A      2\n",
       "              ..\n",
       "c.1224-2A>G    1\n",
       "c.1477A>T      1\n",
       "c.1324C>T      1\n",
       "c.5401G>A      1\n",
       "c.579G>C       1\n",
       "Name: Nucleotide.Change, Length: 1154, dtype: int64"
      ]
     },
     "execution_count": 9,
     "metadata": {},
     "output_type": "execute_result"
    }
   ],
   "source": [
    "# How often do values appear\n",
    "\n",
    "cardioDB[\"Nucleotide.Change\"].value_counts()\n",
    "#cardioDB[\"OMGL.class\"].value_counts()\n",
    "#cardioDB[\"LMM.class\"].value_counts()\n",
    "#cardioDB[\"Phenotype\"].value_counts()\n",
    "#cardioDB[\"Location.GRCh37.\"].value_counts()\n",
    "#cardioDB[\"correct_ref\"].value_counts()"
   ]
  },
  {
   "cell_type": "markdown",
   "id": "9667621d",
   "metadata": {},
   "source": [
    "**Observation:** *OMGL.class* has 3 different values, *LMM.class* has different 6 values, *Phenotype* has 3 different values, *correct_ref* has 5 different values (CGTA.) and the other columns have hundreds of different values. There are several variants that share the same nucleotide change, this needs to be considered."
   ]
  },
  {
   "cell_type": "markdown",
   "id": "8d62c3e8",
   "metadata": {},
   "source": [
    "## Investigating column *Location.GRCh37.*"
   ]
  },
  {
   "cell_type": "code",
   "execution_count": 10,
   "id": "28fd0bab",
   "metadata": {
    "scrolled": true
   },
   "outputs": [
    {
     "data": {
      "text/plain": [
       "12"
      ]
     },
     "execution_count": 10,
     "metadata": {},
     "output_type": "execute_result"
    }
   ],
   "source": [
    "len(cardioDB[\"Location.GRCh37.\"]) - cardioDB[\"Location.GRCh37.\"].str.count(\"^chr[0-9X]+:[0-9]+$\").sum()"
   ]
  },
  {
   "cell_type": "code",
   "execution_count": 11,
   "id": "116a8089",
   "metadata": {},
   "outputs": [
    {
     "data": {
      "text/plain": [
       "0"
      ]
     },
     "execution_count": 11,
     "metadata": {},
     "output_type": "execute_result"
    }
   ],
   "source": [
    "len(cardioDB[\"Location.GRCh37.\"]) - cardioDB[\"Location.GRCh37.\"].str.count(\"^chr[0-9X]+:[0-9]+-*[0-9]*$\").sum()"
   ]
  },
  {
   "cell_type": "markdown",
   "id": "f37f3c81",
   "metadata": {},
   "source": [
    "**Observation:** The column *Location.GRCh37.* has not only entries in the format *chr10:88476172* but also 12 entries in the format that contains a range like *chr10:88476172-88476195*. This needs to be considered, but all entries fulfill the regex format \"^chr[0-9X]+:[0-9]+-\\*[0-9]*$\"."
   ]
  },
  {
   "cell_type": "markdown",
   "id": "f6a9cf51",
   "metadata": {},
   "source": [
    "## Investigating column *Nucleotide.Change*"
   ]
  },
  {
   "cell_type": "code",
   "execution_count": 12,
   "id": "440011bb",
   "metadata": {},
   "outputs": [
    {
     "data": {
      "text/plain": [
       "0      c.4048G>A\n",
       "1      c.2555T>C\n",
       "2      c.2401T>A\n",
       "3    c.2905+1G>A\n",
       "4       c.152T>C\n",
       "Name: Nucleotide.Change, dtype: object"
      ]
     },
     "execution_count": 12,
     "metadata": {},
     "output_type": "execute_result"
    }
   ],
   "source": [
    "cardioDB[\"Nucleotide.Change\"].head()"
   ]
  },
  {
   "cell_type": "code",
   "execution_count": 13,
   "id": "42df2e4f",
   "metadata": {
    "scrolled": false
   },
   "outputs": [
    {
     "name": "stdout",
     "output_type": "stream",
     "text": [
      "86 c.1320_1343del\n",
      "159 c.1320_1343dup\n",
      "372 c.8481_8492del\n",
      "556 c.3742_3759dup\n",
      "561 c.3767_3769delCCA\n",
      "578 c.993_994insT\n",
      "784 c.1111_1125del\n",
      "920 c.2627_2629delAGA\n",
      "938 c.2623_2625delGAG\n",
      "945 c.333_334insT\n",
      "1020 c.3332_3335dupAGTG\n",
      "1074 c.2528_2536delAGATGCGCG\n"
     ]
    }
   ],
   "source": [
    "for i in range(len(cardioDB[\"Nucleotide.Change\"])):\n",
    "    if not re.search(\"^c\\.[*-]*[0-9]+[+-_]*[0-9]*[ACGT]>[ACGT]+$\", cardioDB[\"Nucleotide.Change\"][i]):\n",
    "        print(i, cardioDB[\"Nucleotide.Change\"][i])"
   ]
  },
  {
   "cell_type": "markdown",
   "id": "a89c956e",
   "metadata": {},
   "source": [
    "**Oberservation**: There are not only substitution changes in the variation dataset. "
   ]
  },
  {
   "cell_type": "markdown",
   "id": "422197c0",
   "metadata": {},
   "source": [
    "# Cleaning data"
   ]
  },
  {
   "cell_type": "code",
   "execution_count": 14,
   "id": "238e268d",
   "metadata": {},
   "outputs": [],
   "source": [
    "# Dropping rows that do not contain a substitution\n",
    "error_rows = []\n",
    "for i in range(len(cardioDB[\"Nucleotide.Change\"])):\n",
    "    if not re.search(\"^c\\.[*-]*[0-9]+[+-_]*[0-9]*[ACGT]>[ACGT]+$\", cardioDB[\"Nucleotide.Change\"][i]):\n",
    "        error_rows.append(i)\n",
    "\n",
    "cardioDB = cardioDB.drop(error_rows)\n",
    "\n",
    "# Splitting the values of column Location.GRCh37.\n",
    "cardioDB[['Location.GRCh37.chromosome','Location.GRCh37.position']] = cardioDB['Location.GRCh37.'].str.split(':', expand=True)\n",
    "\n",
    "# Splitting the values of column Nucleotide.Change\n",
    "cardioDB[['Nucleotide.Change.reference', 'Nucleotide.Change.variation']] = cardioDB['Nucleotide.Change'].str.split('>', expand=True)"
   ]
  },
  {
   "cell_type": "markdown",
   "id": "e07a4b2e",
   "metadata": {},
   "source": [
    "## Investigating double variants"
   ]
  },
  {
   "cell_type": "code",
   "execution_count": 15,
   "id": "79249790",
   "metadata": {},
   "outputs": [
    {
     "data": {
      "text/plain": [
       "28"
      ]
     },
     "execution_count": 15,
     "metadata": {},
     "output_type": "execute_result"
    }
   ],
   "source": [
    "variation_only = cardioDB[['Location.GRCh37.','correct_ref', 'Nucleotide.Change.variation']]\n",
    "len(variation_only.value_counts()[variation_only.value_counts()> 1])"
   ]
  },
  {
   "cell_type": "markdown",
   "id": "8b180237",
   "metadata": {},
   "source": [
    "**Observation**: There are 28 double variants, that need to be deleted or changed."
   ]
  },
  {
   "cell_type": "code",
   "execution_count": 16,
   "id": "da832623",
   "metadata": {},
   "outputs": [],
   "source": [
    "cardioDB = cardioDB.drop_duplicates(subset=['Location.GRCh37.','correct_ref', 'Nucleotide.Change.variation'])"
   ]
  }
 ],
 "metadata": {
  "kernelspec": {
   "display_name": "Python 3 (ipykernel)",
   "language": "python",
   "name": "python3"
  },
  "language_info": {
   "codemirror_mode": {
    "name": "ipython",
    "version": 3
   },
   "file_extension": ".py",
   "mimetype": "text/x-python",
   "name": "python",
   "nbconvert_exporter": "python",
   "pygments_lexer": "ipython3",
   "version": "3.9.13"
  }
 },
 "nbformat": 4,
 "nbformat_minor": 5
}
